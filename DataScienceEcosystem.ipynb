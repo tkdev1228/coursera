{
 "cells": [
  {
   "cell_type": "markdown",
   "id": "23f61558",
   "metadata": {},
   "source": [
    "# Data Science Tools and Ecosystem"
   ]
  },
  {
   "cell_type": "markdown",
   "id": "2f167808",
   "metadata": {},
   "source": [
    "### In this notebook, Data Science Tools and Ecosystem are summarized."
   ]
  },
  {
   "cell_type": "markdown",
   "id": "468e069a",
   "metadata": {},
   "source": [
    "**Objectives:**\n",
    " - Understanding of typical languages related to data science\n",
    " - Understanding of typical data science libraries\n",
    " - Understanding of typical data science tools"
   ]
  },
  {
   "cell_type": "markdown",
   "id": "8a7eab4c",
   "metadata": {},
   "source": [
    "Some of the popular languages that Data Scientists use are:\n",
    "1. Python\n",
    "2. R\n",
    "3. Scala"
   ]
  },
  {
   "cell_type": "markdown",
   "id": "1e9ce46b",
   "metadata": {},
   "source": [
    "Some of the commonly used libraries used by Data Scientists include:\n",
    " 1. Pandas\n",
    " 2. NumPy\n",
    " 3. SciPy\n",
    " 4. Matplotlib"
   ]
  },
  {
   "cell_type": "markdown",
   "id": "659102b9",
   "metadata": {},
   "source": [
    "| Data Science Tools |\n",
    "| --- |\n",
    "| Jupyter Notebooks |\n",
    "| Cognos Analytics |\n",
    "| GitHub |"
   ]
  },
  {
   "cell_type": "markdown",
   "id": "1a492ed6",
   "metadata": {},
   "source": [
    "### Below are a few examples of arithmetic expressions in Python."
   ]
  },
  {
   "cell_type": "code",
   "execution_count": 1,
   "id": "571b86cb",
   "metadata": {},
   "outputs": [
    {
     "data": {
      "text/plain": [
       "12"
      ]
     },
     "execution_count": 1,
     "metadata": {},
     "output_type": "execute_result"
    }
   ],
   "source": [
    "# This is a simple arithmetic expression to multiply then add integers.\n",
    "(9*1)+3"
   ]
  },
  {
   "cell_type": "code",
   "execution_count": 2,
   "id": "d26ef94c",
   "metadata": {},
   "outputs": [
    {
     "data": {
      "text/plain": [
       "1.6666666666666667"
      ]
     },
     "execution_count": 2,
     "metadata": {},
     "output_type": "execute_result"
    }
   ],
   "source": [
    "# This will convert 200 minutes to hours by dividing 60.\n",
    "100/60"
   ]
  },
  {
   "cell_type": "markdown",
   "id": "a654321f",
   "metadata": {},
   "source": [
    "## Author\n",
    "Takumi Someya"
   ]
  },
  {
   "cell_type": "code",
   "execution_count": null,
   "id": "d698e5cd",
   "metadata": {},
   "outputs": [],
   "source": []
  }
 ],
 "metadata": {
  "kernelspec": {
   "display_name": "Python 3 (ipykernel)",
   "language": "python",
   "name": "python3"
  },
  "language_info": {
   "codemirror_mode": {
    "name": "ipython",
    "version": 3
   },
   "file_extension": ".py",
   "mimetype": "text/x-python",
   "name": "python",
   "nbconvert_exporter": "python",
   "pygments_lexer": "ipython3",
   "version": "3.10.2"
  }
 },
 "nbformat": 4,
 "nbformat_minor": 5
}
